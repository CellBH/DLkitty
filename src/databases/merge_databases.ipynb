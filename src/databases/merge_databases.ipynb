{
 "cells": [
  {
   "cell_type": "markdown",
   "metadata": {},
   "source": [
    "## Load data"
   ]
  },
  {
   "cell_type": "code",
   "execution_count": null,
   "metadata": {},
   "outputs": [],
   "source": [
    "import pandas as pd\n",
    "import numpy as np\n",
    "import re\n",
    "import csv"
   ]
  },
  {
   "cell_type": "code",
   "execution_count": null,
   "metadata": {},
   "outputs": [],
   "source": [
    "pwd"
   ]
  },
  {
   "cell_type": "code",
   "execution_count": null,
   "metadata": {},
   "outputs": [],
   "source": [
    "fdir = '../../data/databases/'\n",
    "fdir_Sabio = fdir+'Sabio-RK/'\n",
    "fdir_Brenda = fdir+'Brenda/'"
   ]
  },
  {
   "cell_type": "code",
   "execution_count": null,
   "metadata": {},
   "outputs": [],
   "source": [
    "df_Sabio = pd.read_json(fdir_Sabio+'kcats.json')\n",
    "df_Brenda = pd.read_json(fdir_Brenda+'kcats.json')\n",
    "df_Sabio['PubMedID'] = df_Sabio['PubMedID'].astype('Int64')\n",
    "df_Brenda['PubMedID'] = df_Brenda['PubMedID'].astype('Int64')"
   ]
  },
  {
   "cell_type": "code",
   "execution_count": null,
   "metadata": {},
   "outputs": [],
   "source": [
    "print(len(df_Sabio))\n",
    "print(len(df_Brenda))"
   ]
  },
  {
   "cell_type": "code",
   "execution_count": null,
   "metadata": {},
   "outputs": [],
   "source": [
    "# a few fixes to make the `Organism` entries more consistent between the two databases\n",
    "# np.unique(df_Sabio['Organism'][df_Sabio['Organism'].apply(lambda x: 'subsp' in x)])\n",
    "# np.unique(df_Brenda['Organism'][df_Brenda['Organism'].apply(lambda x: 'subsp' in x)])\n",
    "# e.g. \"acinetobacter calcoaceticus (subsp. anitratus)\" -> \"acinetobacter calcoaceticus subsp. anitratus\"\n",
    "def fix_org(org):\n",
    "    _org = org\n",
    "    if re.search(' \\\\(subsp.*\\\\)', org):\n",
    "        inds = re.search(' \\\\(subsp.*\\\\)', org).span()\n",
    "        _org = org[0:inds[0]+1] + org[inds[0]+2:inds[1]-1]\n",
    "    _org = _org.replace(\"(nom. inval.)\", \"\")\n",
    "    _org = _org.replace(\"(nom. rej.)\", \"\")\n",
    "    _org = _org.replace(\"(nom. dub.)\", \"\")\n",
    "    _org = 'priestia megaterium' if _org == 'bacillus megaterium' else _org\n",
    "    _org = _org[1:] if _org[0] == \" \" else _org\n",
    "    _org = _org[:-1] if _org[-1] == \" \" else _org\n",
    "    return _org"
   ]
  },
  {
   "cell_type": "code",
   "execution_count": null,
   "metadata": {},
   "outputs": [],
   "source": [
    "# Brenda and Sabio both have slightly different ordering for 'Substrate' due to uppercase/lowercase inconsistencies\n",
    "df_Brenda['Substrate'] = df_Brenda['Substrate'].apply(lambda x: np.sort([substrate.lower() for substrate in x]).tolist())\n",
    "df_Sabio['Substrate'] = df_Sabio['Substrate'].apply(lambda x: np.sort([substrate.lower() for substrate in x]).tolist())\n",
    "# Put 'ECNumber' for Brenda in lists (consistent with Sabio)\n",
    "df_Brenda['ECNumber'] = df_Brenda['ECNumber'].apply(lambda x: [x])\n",
    "# Change UniProtID `None` entries to empty lists []\n",
    "df_Brenda['UniProtID'] = df_Brenda['UniProtID'].apply(lambda x: [] if x == None else x)\n",
    "# Lowercase for 'Organism' just in case\n",
    "df_Brenda['Organism'] = df_Brenda['Organism'].apply(lambda x: fix_org(x.lower()))\n",
    "df_Sabio['Organism'] = df_Sabio['Organism'].apply(lambda x: fix_org(x.lower()))"
   ]
  },
  {
   "cell_type": "code",
   "execution_count": null,
   "metadata": {},
   "outputs": [],
   "source": [
    "# Expand Brenda `EnzymeType` lists into separate entries (plenty of mutants have kcats identical to wildtype)\n",
    "rows_list = []\n",
    "for row in df_Brenda.iterrows():\n",
    "    entry = row[1]\n",
    "    if row[1]['EnzymeType'] == []:\n",
    "        entry['EnzymeType'] = \"\"\n",
    "        rows_list.append(entry)\n",
    "    else:\n",
    "        for enzymetype in row[1]['EnzymeType']:\n",
    "            entry['EnzymeType'] = enzymetype\n",
    "            entry['EnzymeType'] = entry['EnzymeType'].replace(\"wild-type\", \"wildtype\")\n",
    "            entry['EnzymeType'] = entry['EnzymeType'].replace(\"wild type\", \"wildtype\")\n",
    "            rows_list.append(entry.copy())\n",
    "\n",
    "df_Brenda = pd.DataFrame(rows_list)\n",
    "df_Brenda = df_Brenda.reset_index(drop=True)\n",
    "mask = df_Brenda.astype(str).drop_duplicates().index\n",
    "df_Brenda = df_Brenda.loc[mask]\n",
    "df_Brenda = df_Brenda.reset_index(drop=True)\n",
    "df_Brenda['PubMedID'] = df_Brenda['PubMedID'].astype('Int64')\n",
    "len(df_Brenda)"
   ]
  },
  {
   "cell_type": "code",
   "execution_count": null,
   "metadata": {},
   "outputs": [],
   "source": [
    "# Make the substrate names consistent \n",
    "\n",
    "with open('../../data/databases/substrate_synonym_map.csv','r') as f:\n",
    "    reader = csv.reader(f)\n",
    "    substrate_map = dict((rows[0],rows[1]) for rows in reader)\n",
    "\n",
    "df_Brenda['Substrate'] = df_Brenda['Substrate'].apply(lambda x: np.sort([substrate_map[substrate].lower() for substrate in x]).tolist())\n",
    "df_Sabio['Substrate'] = df_Sabio['Substrate'].apply(lambda x: np.sort([substrate_map[substrate].lower() for substrate in x]).tolist())"
   ]
  },
  {
   "cell_type": "code",
   "execution_count": null,
   "metadata": {},
   "outputs": [],
   "source": [
    "print(len(df_Sabio))\n",
    "print(len(df_Brenda))\n",
    "print(\"Total number of entries:\", len(df_Sabio)+len(df_Brenda))"
   ]
  },
  {
   "cell_type": "markdown",
   "metadata": {},
   "source": [
    "## Merge Sabio and Brenda entries with the same PubMedID"
   ]
  },
  {
   "cell_type": "code",
   "execution_count": null,
   "metadata": {},
   "outputs": [],
   "source": [
    "def compare_UniProtID(x_Brenda, x_Sabio):\n",
    "    #print(x_Sabio['UniProtID'])\n",
    "    #print(x_Brenda['UniProtID'])\n",
    "    if len(x_Brenda['UniProtID']) == len(x_Sabio['UniProtID']):\n",
    "        #print(\"Brenda has the same number of UniProtIDs as Sabio\")\n",
    "        if np.all([i in x_Brenda['UniProtID'] for i in x_Sabio['UniProtID']]):\n",
    "            return x_Brenda['UniProtID']\n",
    "        else:\n",
    "            return False\n",
    "    elif len(x_Brenda['UniProtID']) > len(x_Sabio['UniProtID']):\n",
    "        #print(\"Brenda has more UniProtIDs\")\n",
    "        if np.all([i in x_Brenda['UniProtID'] for i in x_Sabio['UniProtID']]):\n",
    "            return x_Brenda['UniProtID']\n",
    "        else:\n",
    "            return False\n",
    "    else:\n",
    "        #print(\"Sabio has more UniProtIDs\")\n",
    "        if np.all([i in x_Sabio['UniProtID'] for i in x_Brenda['UniProtID']]):\n",
    "            return x_Sabio['UniProtID']\n",
    "        else:\n",
    "            return False\n",
    "        \n",
    "def compare_Substrate(x_Brenda, x_Sabio):\n",
    "    #print(x_Sabio['Substrate'])\n",
    "    #print(x_Brenda['Substrate'])\n",
    "    if len(x_Brenda['Substrate']) == len(x_Sabio['Substrate']):\n",
    "        #print(\"Brenda has the same number of substrates as Sabio\")\n",
    "        if np.all([i in x_Brenda['Substrate'] for i in x_Sabio['Substrate']]):\n",
    "            return x_Brenda['Substrate']\n",
    "        else:\n",
    "            return False\n",
    "    elif len(x_Brenda['Substrate']) > len(x_Sabio['Substrate']):\n",
    "        #print(\"Brenda has more substrates\")\n",
    "        if np.all([i in x_Brenda['Substrate'] for i in x_Sabio['Substrate']]):\n",
    "            return x_Brenda['Substrate']\n",
    "        else:\n",
    "            return False\n",
    "    else:\n",
    "        #print(\"Sabio has more substrates\")\n",
    "        if np.all([i in x_Sabio['Substrate'] for i in x_Brenda['Substrate']]):\n",
    "            return x_Sabio['Substrate']\n",
    "        else:\n",
    "            return False\n",
    "        \n",
    "def compare_pH(x_Brenda, x_Sabio):\n",
    "    #print(x_Sabio['pH'])\n",
    "    #print(x_Brenda['pH'])\n",
    "    if np.isnan(x_Brenda['pH']):\n",
    "        #if np.isnan(x_Sabio['pH']):\n",
    "        #    print(\"No pH values given\")\n",
    "        #else:\n",
    "        #    print(\"Sabio has pH\")\n",
    "        return x_Sabio['pH']\n",
    "    elif np.isnan(x_Sabio['pH']):\n",
    "        #print(\"Brenda has pH\")\n",
    "        return x_Brenda['pH']\n",
    "    else:\n",
    "        if x_Brenda['pH'] == x_Sabio['pH']:\n",
    "            #print(\"Both have the same pH\")\n",
    "            return x_Brenda['pH']\n",
    "        else:\n",
    "            #print(\"Brenda and Sabio have different pH\")\n",
    "            return False\n",
    "        \n",
    "def compare_Temperature(x_Brenda, x_Sabio):\n",
    "    #print(x_Sabio['Temperature'])\n",
    "    #print(x_Brenda['Temperature'])\n",
    "    if np.isnan(x_Brenda['Temperature']):\n",
    "        #if np.isnan(x_Sabio['Temperature']):\n",
    "        #    print(\"No Temperature values given\")\n",
    "        #else:\n",
    "        #    print(\"Sabio has Temperature\")\n",
    "        return x_Sabio['Temperature']\n",
    "    elif np.isnan(x_Sabio['Temperature']):\n",
    "        #print(\"Brenda has Temperature\")\n",
    "        return x_Brenda['Temperature']\n",
    "    else:\n",
    "        if x_Brenda['Temperature'] == x_Sabio['Temperature']:\n",
    "            #print(\"Both have the same Temperature\")\n",
    "            return x_Brenda['Temperature']\n",
    "        else:\n",
    "            #print(\"Brenda and Sabio have different Temperature\")\n",
    "            return False\n",
    "        \n",
    "def compare_EnzymeType(x_Brenda, x_Sabio):\n",
    "    #print(x_Sabio['EnzymeType'])\n",
    "    #print(x_Brenda['EnzymeType'])\n",
    "    if ('mutant' in x_Sabio['EnzymeType']) and ('mutant' in x_Brenda['EnzymeType']):\n",
    "        #print(\"Both mutant\")\n",
    "        return x_Sabio['EnzymeType']\n",
    "    elif ('wildtype' in x_Sabio['EnzymeType']) and ('wildtype' in x_Brenda['EnzymeType']):\n",
    "        #print(\"Both wildtype\")\n",
    "        return x_Sabio['EnzymeType']\n",
    "    elif ('wildtype' in x_Sabio['EnzymeType']) and ('mutant' in x_Brenda['EnzymeType']):\n",
    "        #print(\"Sabio wildtype and Brenda mutant\")\n",
    "        return False\n",
    "    elif ('mutant' in x_Sabio['EnzymeType']) and ('wildtype' in x_Brenda['EnzymeType']):\n",
    "        #print(\"Sabio mutant and Brenda wildtype\")\n",
    "        return False\n",
    "    elif (len(x_Sabio['EnzymeType']) == 0) and (len(x_Brenda['EnzymeType']) > 0):\n",
    "        #print(\"Brenda contains more EnzymeType information\")\n",
    "        return x_Brenda['EnzymeType']\n",
    "    elif (len(x_Brenda['EnzymeType']) == 0) and (len(x_Sabio['EnzymeType']) > 0):\n",
    "        #print(\"Sabio contains more EnzymeType information\")\n",
    "        return x_Sabio['EnzymeType']\n",
    "    else:\n",
    "        #print(\"Unclear how to parse\")\n",
    "        return False\n",
    "\n",
    "def similar_organism(org_Brenda, org_Sabio):\n",
    "    # Brenda usually has less detailed information\n",
    "    # Example: \"lactococcus lactis\" and \"lactococcus lactis subsp. cremoris\"\n",
    "    #print(org_Brenda, \" \", org_Sabio)\n",
    "    if org_Brenda == org_Sabio:\n",
    "        return True\n",
    "    elif re.search('subsp.|sp.', org_Brenda):\n",
    "        inds = re.search('subsp.|sp.', org_Brenda).span()\n",
    "        _org_Brenda = org_Brenda[:inds[0]-1]\n",
    "        return _org_Brenda in org_Sabio\n",
    "    elif re.search('subsp.|sp.', org_Sabio):\n",
    "        inds = re.search('subsp.|sp.', org_Sabio).span()\n",
    "        _org_Sabio = org_Sabio[:inds[0]-1]\n",
    "        return _org_Sabio in org_Brenda\n",
    "    else:\n",
    "        return False"
   ]
  },
  {
   "cell_type": "code",
   "execution_count": null,
   "metadata": {},
   "outputs": [],
   "source": [
    "rinds = np.intersect1d(df_Sabio['PubMedID'], df_Brenda['PubMedID']).astype(int)\n",
    "len(rinds)"
   ]
  },
  {
   "cell_type": "code",
   "execution_count": null,
   "metadata": {},
   "outputs": [],
   "source": [
    "rows_list = []\n",
    "for rind in rinds:\n",
    "    entries_Sabio = df_Sabio[df_Sabio['PubMedID'] == rind]\n",
    "    entries_Brenda = df_Brenda[df_Brenda['PubMedID'] == rind].copy()\n",
    "    for i in range(len(entries_Brenda)):\n",
    "        x_Brenda = entries_Brenda.loc[entries_Brenda.index[i]]\n",
    "        org = x_Brenda['Organism']\n",
    "        ecnumber = x_Brenda['ECNumber']\n",
    "        xs_Sabio = entries_Sabio[entries_Sabio['ECNumber'].apply(lambda x: x == ecnumber) & entries_Sabio['Organism'].apply(lambda x: similar_organism(org, x))]\n",
    "        rtol_val = 1e-2\n",
    "        inds = np.where(np.isclose(xs_Sabio['Value'], x_Brenda['Value'], rtol=rtol_val))[0]\n",
    "        counter = 0\n",
    "        if (len(xs_Sabio) > 0) and (len(inds) > 0):\n",
    "            inds_Sabio = xs_Sabio.index[inds].copy()\n",
    "            for ind in inds_Sabio:\n",
    "            #for j in inds:\n",
    "                #x_Sabio = xs_Sabio.loc[xs_Sabio.index[j]]\n",
    "                x_Sabio = xs_Sabio.loc[ind]\n",
    "                ret_UniProtID = compare_UniProtID(x_Brenda, x_Sabio)\n",
    "                ret_Substrate = compare_Substrate(x_Brenda, x_Sabio)\n",
    "                ret_pH = compare_pH(x_Brenda, x_Sabio)\n",
    "                ret_Temperature = compare_Temperature(x_Brenda, x_Sabio)\n",
    "                ret_EnzymeType = compare_EnzymeType(x_Brenda, x_Sabio)\n",
    "                # if any of these are False do nothing, otherwise remove duplicates merging data into one\n",
    "                if (type(ret_UniProtID) == list) and (type(ret_Substrate) == list) and (ret_pH != False) and (ret_Temperature != False) and (ret_EnzymeType != False):\n",
    "                    #print(\"MERGE\")\n",
    "                    row = x_Sabio.copy()\n",
    "                    row['UniProtID'] = ret_UniProtID\n",
    "                    row['Substrate'] = ret_Substrate\n",
    "                    row['pH'] = ret_pH\n",
    "                    row['Temperature'] = ret_Temperature\n",
    "                    row['EnzymeType'] = ret_EnzymeType\n",
    "                    rows_list.append(row)\n",
    "                    counter += 1\n",
    "                    df_Sabio = df_Sabio.drop(ind)\n",
    "                    entries_Sabio = entries_Sabio.drop(ind)\n",
    "        if counter == 0:\n",
    "            rows_list.append(x_Brenda.copy())\n",
    "        df_Brenda = df_Brenda.drop(x_Brenda.name)\n",
    "\n",
    "    for i in range(len(entries_Sabio)):\n",
    "        x_Sabio = entries_Sabio.loc[entries_Sabio.index[i]]\n",
    "        rows_list.append(x_Sabio.copy())\n",
    "        df_Sabio = df_Sabio.drop(x_Sabio.name)"
   ]
  },
  {
   "cell_type": "code",
   "execution_count": null,
   "metadata": {},
   "outputs": [],
   "source": [
    "print(len(rows_list))\n",
    "print(len(df_Sabio))\n",
    "print(len(df_Brenda))"
   ]
  },
  {
   "cell_type": "markdown",
   "metadata": {},
   "source": [
    "## Merge Brenda entries without PubMedID"
   ]
  },
  {
   "cell_type": "code",
   "execution_count": null,
   "metadata": {},
   "outputs": [],
   "source": [
    "df_null_Brenda = df_Brenda[df_Brenda['PubMedID'].apply(lambda x: np.isnan(x))]"
   ]
  },
  {
   "cell_type": "code",
   "execution_count": null,
   "metadata": {},
   "outputs": [],
   "source": [
    "df_null_Brenda"
   ]
  },
  {
   "cell_type": "code",
   "execution_count": null,
   "metadata": {},
   "outputs": [],
   "source": [
    "for i in df_null_Brenda.index:\n",
    "    x_Brenda = df_null_Brenda.loc[i]\n",
    "    org = x_Brenda['Organism']\n",
    "    ecnumber = x_Brenda['ECNumber']\n",
    "    xs_Sabio = df_Sabio[df_Sabio['ECNumber'].apply(lambda x: x == ecnumber) & df_Sabio['Organism'].apply(lambda x: similar_organism(org, x))]\n",
    "    rtol_val = 1e-2\n",
    "    inds = np.where(np.isclose(xs_Sabio['Value'], x_Brenda['Value'], rtol=rtol_val))[0]\n",
    "    counter = 0\n",
    "    if (len(xs_Sabio) > 0) and (len(inds) > 0):\n",
    "        inds_Sabio = xs_Sabio.index[inds].copy()\n",
    "        for ind in inds_Sabio:\n",
    "            x_Sabio = xs_Sabio.loc[ind]\n",
    "            ret_UniProtID = compare_UniProtID(x_Brenda, x_Sabio)\n",
    "            ret_Substrate = compare_Substrate(x_Brenda, x_Sabio)\n",
    "            ret_pH = compare_pH(x_Brenda, x_Sabio)\n",
    "            ret_Temperature = compare_Temperature(x_Brenda, x_Sabio)\n",
    "            ret_EnzymeType = compare_EnzymeType(x_Brenda, x_Sabio)\n",
    "            if (type(ret_UniProtID) == list) and (type(ret_Substrate) == list) and (ret_pH != False) and (ret_Temperature != False) and (ret_EnzymeType != False):\n",
    "                row = x_Sabio.copy()\n",
    "                row['UniProtID'] = ret_UniProtID\n",
    "                row['Substrate'] = ret_Substrate\n",
    "                row['pH'] = ret_pH\n",
    "                row['Temperature'] = ret_Temperature\n",
    "                row['EnzymeType'] = ret_EnzymeType\n",
    "                rows_list.append(row)\n",
    "                counter += 1\n",
    "                df_Sabio = df_Sabio.drop(ind)\n",
    "    if counter == 0:\n",
    "        rows_list.append(x_Brenda.copy())\n",
    "    df_Brenda = df_Brenda.drop(i)"
   ]
  },
  {
   "cell_type": "code",
   "execution_count": null,
   "metadata": {},
   "outputs": [],
   "source": [
    "print(len(rows_list))\n",
    "print(len(df_Sabio))\n",
    "print(len(df_Brenda))"
   ]
  },
  {
   "cell_type": "markdown",
   "metadata": {},
   "source": [
    "## Merge Sabio entries without PubMedID"
   ]
  },
  {
   "cell_type": "code",
   "execution_count": null,
   "metadata": {},
   "outputs": [],
   "source": [
    "df_null_Sabio = df_Sabio[df_Sabio['PubMedID'].apply(lambda x: np.isnan(x))]"
   ]
  },
  {
   "cell_type": "code",
   "execution_count": null,
   "metadata": {},
   "outputs": [],
   "source": [
    "df_null_Sabio"
   ]
  },
  {
   "cell_type": "code",
   "execution_count": null,
   "metadata": {},
   "outputs": [],
   "source": [
    "for i in df_null_Sabio.index:\n",
    "    x_Sabio = df_null_Sabio.loc[i]\n",
    "    org = x_Sabio['Organism']\n",
    "    ecnumber = x_Sabio['ECNumber']\n",
    "    xs_Brenda = df_Brenda[df_Brenda['ECNumber'].apply(lambda x: x == ecnumber) & df_Brenda['Organism'].apply(lambda x: similar_organism(org, x))]\n",
    "    rtol_val = 1e-2\n",
    "    inds = np.where(np.isclose(xs_Brenda['Value'], x_Sabio['Value'], rtol=rtol_val))[0]\n",
    "    counter = 0\n",
    "    if (len(xs_Brenda) > 0) and (len(inds) > 0):\n",
    "        inds_Brenda = xs_Brenda.index[inds].copy()\n",
    "        for ind in inds_Brenda:\n",
    "            x_Brenda = xs_Brenda.loc[ind]\n",
    "            ret_UniProtID = compare_UniProtID(x_Brenda, x_Sabio)\n",
    "            ret_Substrate = compare_Substrate(x_Brenda, x_Sabio)\n",
    "            ret_pH = compare_pH(x_Brenda, x_Sabio)\n",
    "            ret_Temperature = compare_Temperature(x_Brenda, x_Sabio)\n",
    "            ret_EnzymeType = compare_EnzymeType(x_Brenda, x_Sabio)\n",
    "            if (type(ret_UniProtID) == list) and (type(ret_Substrate) == list) and (ret_pH != False) and (ret_Temperature != False) and (ret_EnzymeType != False):\n",
    "                row = x_Sabio.copy()\n",
    "                row['UniProtID'] = ret_UniProtID\n",
    "                row['Substrate'] = ret_Substrate\n",
    "                row['pH'] = ret_pH\n",
    "                row['Temperature'] = ret_Temperature\n",
    "                row['EnzymeType'] = ret_EnzymeType\n",
    "                rows_list.append(row)\n",
    "                counter += 1\n",
    "                df_Brenda = df_Brenda.drop(ind)\n",
    "    if counter == 0:\n",
    "        rows_list.append(x_Sabio.copy())\n",
    "    df_Sabio = df_Sabio.drop(i)"
   ]
  },
  {
   "cell_type": "code",
   "execution_count": null,
   "metadata": {},
   "outputs": [],
   "source": [
    "print(len(rows_list))\n",
    "print(len(df_Sabio))\n",
    "print(len(df_Brenda))"
   ]
  },
  {
   "cell_type": "markdown",
   "metadata": {},
   "source": [
    "## Final merge"
   ]
  },
  {
   "cell_type": "code",
   "execution_count": null,
   "metadata": {},
   "outputs": [],
   "source": [
    "df_dup = pd.DataFrame(rows_list)"
   ]
  },
  {
   "cell_type": "code",
   "execution_count": null,
   "metadata": {},
   "outputs": [],
   "source": [
    "df_dup"
   ]
  },
  {
   "cell_type": "code",
   "execution_count": null,
   "metadata": {},
   "outputs": [],
   "source": [
    "df = pd.concat([df_Sabio, df_Brenda, df_dup])\n",
    "df = df.reset_index(drop=True)\n",
    "mask = df.astype(str).drop_duplicates().index\n",
    "df = df.loc[mask]\n",
    "df = df.reset_index(drop=True)\n",
    "len(df)"
   ]
  },
  {
   "cell_type": "code",
   "execution_count": null,
   "metadata": {},
   "outputs": [],
   "source": [
    "print(len(df_dup))\n",
    "print(len(df_Brenda))\n",
    "print(len(df_Sabio))\n",
    "len(df_dup)+len(df_Brenda)+len(df_Sabio)"
   ]
  },
  {
   "cell_type": "code",
   "execution_count": null,
   "metadata": {},
   "outputs": [],
   "source": [
    "df = df.drop(columns=['PubMedID'])\n",
    "mask = df.astype(str).drop_duplicates().index\n",
    "df = df.loc[mask]\n",
    "df = df.reset_index(drop=True)\n",
    "len(df)"
   ]
  },
  {
   "cell_type": "code",
   "execution_count": null,
   "metadata": {},
   "outputs": [],
   "source": [
    "df"
   ]
  },
  {
   "cell_type": "code",
   "execution_count": null,
   "metadata": {},
   "outputs": [],
   "source": [
    "df = df.sort_values(by=['ECNumber'])"
   ]
  },
  {
   "cell_type": "code",
   "execution_count": null,
   "metadata": {},
   "outputs": [],
   "source": [
    "np.sort(df['Value'])"
   ]
  },
  {
   "cell_type": "code",
   "execution_count": null,
   "metadata": {},
   "outputs": [],
   "source": [
    "df"
   ]
  },
  {
   "cell_type": "code",
   "execution_count": null,
   "metadata": {},
   "outputs": [],
   "source": [
    "df.to_csv(fdir+'kcats_merged.csv', index=False)"
   ]
  },
  {
   "cell_type": "code",
   "execution_count": null,
   "metadata": {},
   "outputs": [],
   "source": [
    "df.to_json(fdir+'kcats_merged.json', index=False)"
   ]
  }
 ],
 "metadata": {
  "kernelspec": {
   "display_name": "Python 3",
   "language": "python",
   "name": "python3"
  },
  "language_info": {
   "codemirror_mode": {
    "name": "ipython",
    "version": 3
   },
   "file_extension": ".py",
   "mimetype": "text/x-python",
   "name": "python",
   "nbconvert_exporter": "python",
   "pygments_lexer": "ipython3",
   "version": "3.13.0"
  }
 },
 "nbformat": 4,
 "nbformat_minor": 2
}
