{
 "cells": [
  {
   "cell_type": "code",
   "execution_count": null,
   "metadata": {},
   "outputs": [],
   "source": [
    "using Pkg; Pkg.activate(\"../../.\")"
   ]
  },
  {
   "cell_type": "code",
   "execution_count": null,
   "metadata": {},
   "outputs": [],
   "source": [
    "using DataFrames\n",
    "using Pandas\n",
    "using CSV"
   ]
  },
  {
   "cell_type": "code",
   "execution_count": null,
   "metadata": {},
   "outputs": [],
   "source": [
    "df = Pandas.read_json(\"../../data/databases/kcats_merged_SMILES_UniProt.json\")\n",
    "df = DataFrames.DataFrame(df);"
   ]
  },
  {
   "cell_type": "code",
   "execution_count": null,
   "metadata": {},
   "outputs": [],
   "source": [
    "df = mapcols(x -> replace(x, NaN => missing), df)\n",
    "df = mapcols(x -> replace(x, nothing => missing), df)\n",
    "df = mapcols(x -> replace(x, [] => missing), df)\n",
    "df"
   ]
  },
  {
   "cell_type": "code",
   "execution_count": null,
   "metadata": {},
   "outputs": [],
   "source": [
    "df.ProteinSequences = [ ismissing(protseqs) ? missing : [ isnothing(seq) ? missing : seq for seq in protseqs] for protseqs in df.ProteinSequences]\n",
    "df.SubstrateSMILES = [ [ isnothing(seq) ? missing : seq for seq in smilesseqs] for smilesseqs in df.SubstrateSMILES];"
   ]
  },
  {
   "cell_type": "code",
   "execution_count": null,
   "metadata": {},
   "outputs": [],
   "source": [
    "CSV.write(\"../../data/databases/kcats_complete.csv\", df)"
   ]
  },
  {
   "cell_type": "code",
   "execution_count": null,
   "metadata": {},
   "outputs": [],
   "source": [
    "using JSON3, JSONTables\n",
    "JSON3.write(\"../../data/databases/kcats_complete.json\", objecttable(df))"
   ]
  },
  {
   "cell_type": "code",
   "execution_count": null,
   "metadata": {},
   "outputs": [],
   "source": [
    "using JSON3, JSONTables\n",
    "df = JSON3.read(\"../../data/databases/kcats_complete.json\")\n",
    "df = DataFrames.DataFrame(jsontable(df))\n",
    "df.ProteinSequences = [ ismissing(protseqs) ? missing : [ isnothing(seq) ? missing : seq for seq in protseqs] for protseqs in df.ProteinSequences]\n",
    "df.SubstrateSMILES = [ [ isnothing(seq) ? missing : seq for seq in smilesseqs] for smilesseqs in df.SubstrateSMILES];"
   ]
  },
  {
   "cell_type": "code",
   "execution_count": null,
   "metadata": {},
   "outputs": [],
   "source": [
    "@show length(findall(any(ismissing.(seq)) for seq in df.ProteinSequences))\n",
    "@show length(findall(any(ismissing.(seq)) for seq in df.SubstrateSMILES));"
   ]
  },
  {
   "cell_type": "code",
   "execution_count": null,
   "metadata": {},
   "outputs": [],
   "source": [
    "@show length(union(findall(any(ismissing.(seq)) for seq in df.ProteinSequences), findall(any(ismissing.(seq)) for seq in df.SubstrateSMILES)))"
   ]
  }
 ],
 "metadata": {
  "kernelspec": {
   "display_name": "Julia 1.11.3",
   "language": "julia",
   "name": "julia-1.11"
  },
  "language_info": {
   "file_extension": ".jl",
   "mimetype": "application/julia",
   "name": "julia",
   "version": "1.11.3"
  }
 },
 "nbformat": 4,
 "nbformat_minor": 2
}
