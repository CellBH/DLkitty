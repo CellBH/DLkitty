{
 "cells": [
  {
   "cell_type": "markdown",
   "metadata": {},
   "source": [
    "## Load data"
   ]
  },
  {
   "cell_type": "code",
   "execution_count": null,
   "metadata": {},
   "outputs": [],
   "source": [
    "import pandas as pd\n",
    "import numpy as np\n",
    "import re\n",
    "import csv"
   ]
  },
  {
   "cell_type": "code",
   "execution_count": null,
   "metadata": {},
   "outputs": [],
   "source": [
    "pwd"
   ]
  },
  {
   "cell_type": "code",
   "execution_count": null,
   "metadata": {},
   "outputs": [],
   "source": [
    "fdir = '../../data/databases/'"
   ]
  },
  {
   "cell_type": "code",
   "execution_count": null,
   "metadata": {},
   "outputs": [],
   "source": [
    "df = pd.read_json(fdir+'kcats_merged.json')"
   ]
  },
  {
   "cell_type": "code",
   "execution_count": null,
   "metadata": {},
   "outputs": [],
   "source": [
    "df"
   ]
  },
  {
   "cell_type": "markdown",
   "metadata": {},
   "source": [
    "## Retrieve SMILES"
   ]
  },
  {
   "cell_type": "markdown",
   "metadata": {},
   "source": [
    "Fix Sabio and look at SMILES. Making a barebones dataset that has clear associated UniProtID and SMILES information"
   ]
  },
  {
   "cell_type": "markdown",
   "metadata": {},
   "source": [
    "Run external script `pubchem_SMILES.py`"
   ]
  },
  {
   "cell_type": "code",
   "execution_count": null,
   "metadata": {},
   "outputs": [],
   "source": [
    "# Extract all unique substrates\n",
    "#all_substrates = np.unique(np.hstack(df['Substrate'].to_list()))\n",
    "#print(all_substrates.shape)\n",
    "#np.save('../../data/databases/unique_substrates.npy', all_substrates)\n",
    "\n",
    "# Run the separate script 'pubchem_SMILES.py' to generate substrate-SMILES map"
   ]
  },
  {
   "cell_type": "code",
   "execution_count": null,
   "metadata": {},
   "outputs": [],
   "source": [
    "with open(fdir+'substrate_SMILES_map.csv','r') as f:\n",
    "    reader = csv.reader(f)\n",
    "    substrate_smiles = dict((rows[0],rows[1]) for rows in reader)"
   ]
  },
  {
   "cell_type": "code",
   "execution_count": null,
   "metadata": {},
   "outputs": [],
   "source": [
    "smiles_list = []\n",
    "for row in df.iterrows():\n",
    "    substrates = row[1].Substrate\n",
    "    _subs = [substrate_smiles[sub] if substrate_smiles[sub] != '' else None for sub in substrates]\n",
    "    smiles_list.append(_subs)"
   ]
  },
  {
   "cell_type": "markdown",
   "metadata": {},
   "source": [
    "## Retrieve UniProtIDs"
   ]
  },
  {
   "cell_type": "markdown",
   "metadata": {},
   "source": [
    "### Retrieve extra UniProtID information from the existing data"
   ]
  },
  {
   "cell_type": "code",
   "execution_count": null,
   "metadata": {},
   "outputs": [],
   "source": [
    "# Build a Organism-ECNumber map to UniProtID values -- see if it helps to uniquely map the entries without a UniProtID to a match\n",
    "org_ec_uniprot_map = {}\n",
    "for row in df.iterrows():\n",
    "    ec = str(row[1].ECNumber)\n",
    "    org = row[1].Organism\n",
    "    uniprotid = list(row[1].UniProtID)\n",
    "    if ((org, ec) in org_ec_uniprot_map):\n",
    "        if uniprotid != []:\n",
    "            org_ec_uniprot_map[(org, ec)].append(uniprotid)\n",
    "            org_ec_uniprot_map[(org, ec)] = [list(x) for x in set([tuple(x) if type(x) == list else x for x in org_ec_uniprot_map[(org, ec)]])]\n",
    "    else:\n",
    "        if uniprotid == []:\n",
    "            org_ec_uniprot_map[(org, ec)] = []\n",
    "        else:\n",
    "            org_ec_uniprot_map[(org, ec)] = [uniprotid]"
   ]
  },
  {
   "cell_type": "code",
   "execution_count": null,
   "metadata": {},
   "outputs": [],
   "source": [
    "#pd.options.mode.chained_assignment = None\n",
    "df[df['UniProtID'].apply(lambda x: len(x) == 0)].shape"
   ]
  },
  {
   "cell_type": "code",
   "execution_count": null,
   "metadata": {},
   "outputs": [],
   "source": [
    "for row in df[df['UniProtID'].apply(lambda x: len(x) == 0)].iterrows():\n",
    "    ec = str(row[1].ECNumber)\n",
    "    org = row[1].Organism\n",
    "    if (org, ec) in org_ec_uniprot_map:\n",
    "        values = org_ec_uniprot_map[(org, ec)]\n",
    "        if len(values) == 1:\n",
    "            #print(row[0])\n",
    "            #print(values[0])\n",
    "            df.at[row[0], 'UniProtID'] = values[0]"
   ]
  },
  {
   "cell_type": "code",
   "execution_count": null,
   "metadata": {},
   "outputs": [],
   "source": [
    "df[df['UniProtID'].apply(lambda x: len(x) == 0)].shape"
   ]
  },
  {
   "cell_type": "markdown",
   "metadata": {},
   "source": [
    "### Retrieve extra UniProtIDs using UniProt API"
   ]
  },
  {
   "cell_type": "markdown",
   "metadata": {},
   "source": [
    "Run external script `get_UniProtIDs.py`"
   ]
  },
  {
   "cell_type": "code",
   "execution_count": null,
   "metadata": {},
   "outputs": [],
   "source": [
    "'''\n",
    "def create_UniProtID_request(row):\n",
    "    ECNumber = row.ECNumber[0]\n",
    "    organism = row.Organism\n",
    "    # NOTE: could increase the number of hits by not using reviewed:true option, i.e. including UniProtKB unreviewed (TrEMBL) entries\n",
    "    query0 = \"(ec:%s) AND (organism_name:\\\"%s\\\")\" % (ECNumber, organism)\n",
    "    EnzymeName = row.EnzymeName\n",
    "    query1 = query0 + \" AND \\\"%s\\\"\" % (EnzymeName)\n",
    "    substrate_query = ' OR '.join(['\\\"'+sub+'\\\"' for sub in row.Substrate])\n",
    "    query2 = query0 + ' AND ('+substrate_query+')'    \n",
    "    query3 = query1 + ' AND ('+substrate_query+')'\n",
    "    \n",
    "    return [query0, query1, query2, query3]\n",
    "\n",
    "all_queries = []\n",
    "for row in df[df['UniProtID'].apply(lambda x: len(x) == 0)].iterrows():\n",
    "    #print(\"Row \"+str(row[0]))\n",
    "    queries = create_UniProtID_request(row[1])\n",
    "    for query in queries:\n",
    "        all_queries.append(query)\n",
    "    #print(queries)\n",
    "    #print(\"--------------------------\")\n",
    "\n",
    "print(len(all_queries))\n",
    "indexes = np.unique(all_queries, return_index=True)[1]\n",
    "all_queries = [all_queries[index] for index in sorted(indexes)]\n",
    "print(len(all_queries))\n",
    "\n",
    "np.save(fdir+'all_ECNumber_organism_queries.npy', all_queries)\n",
    "'''\n",
    "\n",
    "# RUN get_UniProtIDs.py"
   ]
  },
  {
   "cell_type": "code",
   "execution_count": null,
   "metadata": {},
   "outputs": [],
   "source": [
    "with open(fdir+'UniProtKB_query_map.csv','r') as f:\n",
    "    reader = csv.reader(f)\n",
    "    query_map = dict((rows[0],rows[1]) for rows in reader)"
   ]
  },
  {
   "cell_type": "code",
   "execution_count": null,
   "metadata": {},
   "outputs": [],
   "source": [
    "def retrieve_UniProtID(row):\n",
    "\n",
    "    ECNumber = row.ECNumber[0]\n",
    "    organism = row.Organism\n",
    "    query0 = \"(ec:%s) AND (organism_name:\\\"%s\\\")\" % (ECNumber, organism)\n",
    "    #print(query0)\n",
    "    uniprotid = query_map[query0]\n",
    "    if (uniprotid):\n",
    "        return [uniprotid]\n",
    "    \n",
    "    EnzymeName = row.EnzymeName\n",
    "    query1 = query0 + \" AND \\\"%s\\\"\" % (EnzymeName)\n",
    "    #print(query1)\n",
    "    uniprotid = query_map[query1]\n",
    "    if (uniprotid):\n",
    "        return [uniprotid]\n",
    "    \n",
    "    substrate_query = ' OR '.join(['\\\"'+sub+'\\\"' for sub in row.Substrate])\n",
    "    query2 = query0 + ' AND ('+substrate_query+')'\n",
    "    #print(query2)\n",
    "    uniprotid = query_map[query2]\n",
    "    if (uniprotid):\n",
    "        return [uniprotid]\n",
    "\n",
    "    query3 = query1 + ' AND ('+substrate_query+')'\n",
    "    #print(query3)\n",
    "    uniprotid = query_map[query3]\n",
    "    if (uniprotid):\n",
    "        return [uniprotid]\n",
    "\n",
    "    return []"
   ]
  },
  {
   "cell_type": "code",
   "execution_count": null,
   "metadata": {},
   "outputs": [],
   "source": [
    "for row in df[df['UniProtID'].apply(lambda x: len(x) == 0)].iterrows():\n",
    "    #print(\"Row \"+str(row[0]))\n",
    "    uniprotid = retrieve_UniProtID(row[1])\n",
    "    #print(uniprotid)\n",
    "    #print(\"--------------------------\")\n",
    "    df.at[row[0], 'UniProtID'] = uniprotid"
   ]
  },
  {
   "cell_type": "code",
   "execution_count": null,
   "metadata": {},
   "outputs": [],
   "source": [
    "df[df['UniProtID'].apply(lambda x: len(x) == 0)].shape"
   ]
  },
  {
   "cell_type": "markdown",
   "metadata": {},
   "source": [
    "## Retrieve UniProt sequences"
   ]
  },
  {
   "cell_type": "markdown",
   "metadata": {},
   "source": [
    "Run external script `get_UniProtKB_sequences_mp.py`"
   ]
  },
  {
   "cell_type": "code",
   "execution_count": null,
   "metadata": {},
   "outputs": [],
   "source": [
    "'''\n",
    "UniProtIDs = np.unique(np.concatenate(df['UniProtID']))\n",
    "print(len(UniProtIDs))\n",
    "np.save(fdir+'all_UniProtIDs.npy', UniProtIDs)\n",
    "'''\n",
    "\n",
    "#RUN get_UniProtKB_sequences_mp.py"
   ]
  },
  {
   "cell_type": "code",
   "execution_count": null,
   "metadata": {},
   "outputs": [],
   "source": [
    "with open(fdir+'UniProtKB_sequence_map.csv','r') as f:\n",
    "    reader = csv.reader(f)\n",
    "    uniprotid_seq_map = dict((rows[0],rows[1]) for rows in reader)"
   ]
  },
  {
   "cell_type": "code",
   "execution_count": null,
   "metadata": {},
   "outputs": [],
   "source": [
    "def parse_seq(enzymetype, seq):\n",
    "    if \"bridged\" in enzymetype: # not sure what these mean\n",
    "        # e.g. mutant A251C:S430C disulfide-bridged\n",
    "        return None\n",
    "    #mutant = re.findall('[A-Z]\\\\d+[A-Z]', enzymetype)  # re is of great use\n",
    "    shift_index = False\n",
    "    mutant = re.findall(r'\\b([A-Z]\\d+[A-Z])', enzymetype)\n",
    "    if mutant != []:\n",
    "        \n",
    "        s = list(seq)\n",
    "\n",
    "        for ind, mutation in enumerate(mutant):\n",
    "            s1 = mutation[0]\n",
    "            s2 = mutation[-1]\n",
    "            i = int(mutation[1:-1])-1\n",
    "\n",
    "            if ind == 0:\n",
    "                if (len(seq) > i) and (s[i] == s1):\n",
    "                    pass\n",
    "                elif (len(seq) > i+1) and (s[i+1] == s1):\n",
    "                    print(\"Shift index: i -> i+1\")\n",
    "                    shift_index = True\n",
    "                else:\n",
    "                    print(\"Peptides do no match\")\n",
    "                    print(\"IGNORE\")\n",
    "                    return None # if the peptides do not match\n",
    "\n",
    "            i = i+1 if shift_index else i\n",
    "            print(\"Change %s to %s at position %s\" % (s1, s2, i))\n",
    "            if (len(seq) >= i) and s[i] == s1:\n",
    "                s[i] = s2\n",
    "            else:\n",
    "                print(\"Peptides do no match\")\n",
    "                print(\"IGNORE\")\n",
    "                return None # if the peptides do not match\n",
    "\n",
    "        #print(\"Change as\" + '/'.join(mutant))\n",
    "        enzymetype = enzymetype.upper()\n",
    "        if \"DEL\" in enzymetype:\n",
    "            delete_seq(enzymetype, \"\".join(s), shift_index)\n",
    "        else:\n",
    "            return \"\".join(s)\n",
    "    else:\n",
    "        enzymetype = enzymetype.upper()\n",
    "        if \"DEL\" in enzymetype:\n",
    "            delete_seq(enzymetype, seq, shift_index)\n",
    "        else:\n",
    "            print(\"IGNORE\")\n",
    "            return None\n",
    "        \n",
    "# this resolves some of the entries with delta argument\n",
    "def delete_seq(enzymetype, seq, shift_index):\n",
    "    \n",
    "    #TODO: regex could be rewritten in a much cleaner manner\n",
    "    if ('TRUNCATED' in enzymetype) or ('DELETED' in enzymetype): # or ('tag' in x) -- ignoring the His-tag\n",
    "        print(\"IGNORE\")\n",
    "        return None\n",
    "\n",
    "    enzymetype = enzymetype.upper()\n",
    "    # \"delta39 C/N-terminal His6-tag\" -> unclear if (delete 39 from C/N-terminal, and then add histag, or delete 39 from N/N terminal, and add histag at C/N-terminal)\n",
    "    #res = re.search('delta[0-9]+ [NC]-terminal His', enzymetype)\n",
    "    res = re.search('delta[0-9]+ [NC]-TERMINAL HIS', enzymetype)\n",
    "    if res:\n",
    "        print(\"IGNORE\")\n",
    "        return None\n",
    "\n",
    "    # 'mutant IMP-1 delta 61'\n",
    "    res = re.search('\\\\bDELTA [0-9]+(\\\\Z|[ ])', enzymetype)\n",
    "    if res:\n",
    "        res = res.group()\n",
    "        i = int(re.search('[0-9]+', res).group())\n",
    "        i = i + 1 if shift_index else i\n",
    "        print(\"Delete at:\", i)\n",
    "        if len(seq) > i:\n",
    "            return seq[:i-1] + seq[i:]\n",
    "        else:\n",
    "            return None\n",
    "\n",
    "    #'mutant delta306'\n",
    "    res = re.search('\\\\bDELTA[0-9]+(\\\\Z|[ ])', enzymetype)\n",
    "    if res:\n",
    "        res = res.group()\n",
    "        #print(res)\n",
    "        i = int(re.search('[0-9]+', res).group())\n",
    "        i = i + 1 if shift_index else i\n",
    "        print(\"Delete at:\", i)\n",
    "        if len(seq) > i:\n",
    "            return seq[:i-1] + seq[i:]\n",
    "        else:\n",
    "            print(\"IGNORE\")\n",
    "            return None\n",
    "\n",
    "    #if enzymetype == 'mutant delta 1-77 H453L'.upper():\n",
    "    #    print(\"HERE WE ARE\")\n",
    "    #    print(re.search(' DELTA[ ]*[0-9]+-[0-9]+(\\\\Z|[, ])', enzymetype))\n",
    "   #     print(\"???\")\n",
    "    # 'mutant IMP-1 delta 61-66' OR 'mutant delta411-551'\n",
    "    res = re.search('\\\\bDELTA[ ]*[0-9]+-[0-9]+(\\\\Z|[, ])', enzymetype)\n",
    "    if res:\n",
    "        res = res.group()\n",
    "        i1 = int(re.search('[0-9]+-', res).group()[:-1])\n",
    "        i2 = int(re.search('-[0-9]+', res).group()[1:])\n",
    "        i1 = i1 + 1 if shift_index else i1\n",
    "        i2 = i2 + 1 if shift_index else i2\n",
    "        print(\"Delete from %s to %s\" % (i1, i2))\n",
    "        if len(seq) > i2:\n",
    "            return seq[:i1-1] + seq[i2:]\n",
    "        else:\n",
    "            print(\"IGNORE\")\n",
    "            return None\n",
    "\n",
    "    # 'mutant IMP-1 delta(61-66)'\n",
    "    res = re.search('\\\\bDELTA[(][0-9]+-[0-9]+[,)](\\\\Z|[ ])', enzymetype)\n",
    "    if res:\n",
    "        res = res.group()\n",
    "        i1 = int(re.search('[0-9]+-', res).group()[:-1])\n",
    "        i2 = int(re.search('-[0-9]+', res).group()[1:])\n",
    "        i1 = i1 + 1 if shift_index else i1\n",
    "        i2 = i2 + 1 if shift_index else i2\n",
    "        print(\"Delete from %s to %s\" % (i1, i2))\n",
    "        if len(seq) > i2:\n",
    "            return seq[:i1-1] + seq[i2:]\n",
    "        else:\n",
    "            print(\"IGNORE\")\n",
    "            return None\n",
    "\n",
    "    # 'mutant (delta1-184)'\n",
    "    res = re.search('[(]DELTA[0-9]+-[0-9]+[,)]', enzymetype)\n",
    "    if res:\n",
    "        res = res.group()\n",
    "        i1 = int(re.search('[0-9]+-', res).group()[:-1])\n",
    "        i2 = int(re.search('-[0-9]+', res).group()[1:])\n",
    "        i1 = i1 + 1 if shift_index else i1\n",
    "        i2 = i2 + 1 if shift_index else i2\n",
    "        print(\"Delete from %s to %s\" % (i1, i2))\n",
    "        if len(seq) > i2:   \n",
    "            return seq[:i1-1] + seq[i2:]\n",
    "        else:\n",
    "            print (\"IGNORE\")\n",
    "            return None\n",
    "\n",
    "    #peptide sequences are written N-terminus to C-terminus, left to right \n",
    "    # 'mutant deltaN60' -> delete the first 60 entries\n",
    "    res = re.search('\\\\bDELTAN[0-9]+(\\\\Z|[ ])', enzymetype)\n",
    "    if res:\n",
    "        res = res.group()\n",
    "        i = int(re.search('[0-9]+', res).group())\n",
    "        print(\"Delete from 1 to %s\" % (i))\n",
    "        if len(seq) > i:\n",
    "            return seq[i:]\n",
    "        else: \n",
    "            print(\"IGNORE\")\n",
    "            return None\n",
    "\n",
    "    # 'mutant deltaF272'\n",
    "    res = re.search('\\\\bDELTA[A-Z][0-9]+(\\\\Z|[ ])', enzymetype)\n",
    "    if res:\n",
    "        res = re.search('DELTA[A-Z][0-9]+(\\\\Z|[ ])', enzymetype)\n",
    "        res = res.group()\n",
    "        s = res[5]\n",
    "        i = int(res[6:])\n",
    "        i = i + 1 if shift_index else i\n",
    "        print(\"Delete %s at position %s\" % (s, i))\n",
    "        print(seq[i-1])\n",
    "        if seq[i-1] == s and len(seq) >= i:\n",
    "            return seq[:i-1] + seq[i:]\n",
    "        elif not(shift_index) and len(seq) >= i+1 and seq[i] == s: \n",
    "            print(\"Shift index: i -> i+1\")\n",
    "            shift_index = True\n",
    "            i = i+1\n",
    "            return seq[:i-1] + seq[i:]\n",
    "        else:\n",
    "            print(\"Peptides do not match\")\n",
    "            print(\"IGNORE\")\n",
    "            return None\n",
    "\n",
    "    # 'mutant delta F272'\n",
    "    res = re.search('\\\\bDELTA [A-Z][0-9]+(\\\\Z|[ ])', enzymetype)\n",
    "    if res:\n",
    "        res = re.search('DELTA [A-Z][0-9]+(\\\\Z|[ ])', enzymetype)\n",
    "        res = res.group()\n",
    "        s = res[6]\n",
    "        i = int(res[7:])\n",
    "        i = i + 1 if shift_index else i\n",
    "        print(\"Delete %s at position %s\" % (s, i))\n",
    "        print(seq[i-1])\n",
    "        if seq[i-1] == s and len(seq) >= i:\n",
    "            return seq[:i-1] + seq[i:]\n",
    "        elif not(shift_index) and len(seq) >= i+1 and seq[i] == s: \n",
    "            print(\"Shift index: i -> i+1\")\n",
    "            shift_index = True\n",
    "            i = i+1\n",
    "            return seq[:i-1] + seq[i:]\n",
    "        else:\n",
    "            print(\"Peptides do not match\")\n",
    "            print(\"IGNORE\")\n",
    "            return None\n",
    "\n",
    "    # 'mutant deltaP321-V363'\n",
    "    res = re.search('\\\\bDELTA[A-Z][0-9]+-[A-Z][0-9]+(\\\\Z|[ ])', enzymetype)\n",
    "    if res:\n",
    "        res = re.search('DELTA[A-Z][0-9]+-[A-Z][0-9]+(\\\\Z|[ ])', enzymetype)\n",
    "        res = res.group()\n",
    "        s1 = res[5]\n",
    "        i1 = int(re.search('DELTA[A-Z][0-9]+', res).group()[6:])\n",
    "        i1 = i1 + 1 if shift_index else i1\n",
    "        res = re.search('-[A-Z][0-9]+', res).group()\n",
    "        s2 = res[1]\n",
    "        i2 = int(res[2:])\n",
    "        i2 = i2 + 1 if shift_index else i2\n",
    "        print(\"Delete from %s at position %s to %s at position %s\" % (s1, i1, s2, i2))\n",
    "        print(seq[i1-1], \" \", seq[i2-1])\n",
    "        print(seq[i1], \" \", seq[i2])\n",
    "        if (seq[i1-1] == s1) and (seq[i2-1] == s2) and (len(seq) >= i2):\n",
    "            return seq[:i1-1] + seq[i2:]\n",
    "        elif not(shift_index) and (len(seq) >= i2+1) and (seq[i1] == s1) and (seq[i2] == s2):\n",
    "            print(\"Shift index: i -> i+1\")\n",
    "            shift_index = True\n",
    "            i1 = i1+1\n",
    "            i2 = i2+2\n",
    "            return seq[:i1-1] + seq[i2:]\n",
    "        else:\n",
    "            print(\"Peptides do not match\")\n",
    "            print(\"IGNORE\")\n",
    "            return None\n",
    "\n",
    "    # 'mutant delta310/N305L/M306I'\n",
    "    res = re.search('\\\\bDELTA[0-9]+/', enzymetype)\n",
    "    if res:\n",
    "        res = re.search('DELTA[0-9]+/', enzymetype)\n",
    "        res = res.group()\n",
    "        i = int(res[5:-1])\n",
    "        i = i + 1 if shift_index else i\n",
    "        print(\"Delete at %s\" % (i))\n",
    "        if len(seq) > i:\n",
    "            return seq[:i-1] + seq[i:]\n",
    "        else:\n",
    "            print(\"IGNORE\")\n",
    "            return None\n",
    "\n",
    "    print(\"IGNORE\")\n",
    "    return None"
   ]
  },
  {
   "cell_type": "code",
   "execution_count": null,
   "metadata": {},
   "outputs": [],
   "source": [
    "seq_list = []\n",
    "for row in df.iterrows():\n",
    "    print(row[0])\n",
    "    EnzymeType = row[1]['EnzymeType']\n",
    "    UniProtIDs = row[1]['UniProtID'] \n",
    "    print(EnzymeType)\n",
    "    keywords = ['recombinant', 'isoenzyme', 'isozyme', 'carboxymethylated', 'native', 'soluble']\n",
    "    if len(UniProtIDs) == 0:\n",
    "        seq_list.append(None)\n",
    "        print(\"No UniProtIDs -- no protein sequences\")\n",
    "    elif ('wildtype' in EnzymeType) and ('mutant' in EnzymeType or 'delta' in EnzymeType):\n",
    "        seq_list.append(None)\n",
    "        print(\"Unclear how to parse\")\n",
    "    elif ('wildtype' in EnzymeType) or (len(EnzymeType)==0) or \\\n",
    "         (np.any([keyword in EnzymeType for keyword in keywords]) and not('mutant' in EnzymeType)):\n",
    "        print(\"Append the protein sequence(s)\")\n",
    "        seq_list.append([uniprotid_seq_map[uniprotid] if uniprotid in uniprotid_seq_map else None for uniprotid in UniProtIDs])\n",
    "    else:\n",
    "        if len(UniProtIDs) > 1: # unclear\n",
    "            print(\"Unclear how to parse due to multiple UniProtIDs\")\n",
    "            seq_list.append(None)\n",
    "        else:\n",
    "            uniprotid = UniProtIDs[0]\n",
    "            if uniprotid in uniprotid_seq_map and not(uniprotid_seq_map[uniprotid] == None):\n",
    "                seq0 = uniprotid_seq_map[uniprotid]\n",
    "                seq = parse_seq(EnzymeType, seq0)\n",
    "            seq_list.append([seq])\n",
    "    print(\"-------------------------------\")\n",
    "    #if not('wildtype' in enzymetype):\n",
    "    #    print(row[0])\n",
    "    #    print(row[1]['UniProtID'])\n",
    "    #    print(enzymetype)\n",
    "    #    delete_seq(enzymetype)\n",
    "    #    print(\"----------------------------------------------------------\")"
   ]
  },
  {
   "cell_type": "markdown",
   "metadata": {},
   "source": [
    "# Add data"
   ]
  },
  {
   "cell_type": "code",
   "execution_count": null,
   "metadata": {},
   "outputs": [],
   "source": [
    "df['ProteinSequences'] = seq_list\n",
    "df['SubstrateSMILES'] = smiles_list"
   ]
  },
  {
   "cell_type": "code",
   "execution_count": null,
   "metadata": {},
   "outputs": [],
   "source": [
    "df.shape"
   ]
  },
  {
   "cell_type": "code",
   "execution_count": null,
   "metadata": {},
   "outputs": [],
   "source": [
    "np.sum(df['ProteinSequences'].apply(lambda x: x == None or None in x))"
   ]
  },
  {
   "cell_type": "code",
   "execution_count": null,
   "metadata": {},
   "outputs": [],
   "source": [
    "np.sum(df['SubstrateSMILES'].apply(lambda x: None in x))"
   ]
  },
  {
   "cell_type": "code",
   "execution_count": null,
   "metadata": {},
   "outputs": [],
   "source": [
    "np.sum(df['ProteinSequences'].apply(lambda x: x == None or None in x) | df['SubstrateSMILES'].apply(lambda x: None in x))"
   ]
  },
  {
   "cell_type": "code",
   "execution_count": null,
   "metadata": {},
   "outputs": [],
   "source": [
    "df = df.drop(columns=['EnzymeName'])\n",
    "mask = df.astype(str).drop_duplicates().index\n",
    "df = df.loc[mask]\n",
    "df = df.reset_index(drop=True)\n",
    "len(df)"
   ]
  },
  {
   "cell_type": "code",
   "execution_count": null,
   "metadata": {},
   "outputs": [],
   "source": [
    "df.to_json(fdir+'kcats_merged_SMILES_UniProt.json', index=False)"
   ]
  }
 ],
 "metadata": {
  "kernelspec": {
   "display_name": "Python 3",
   "language": "python",
   "name": "python3"
  },
  "language_info": {
   "codemirror_mode": {
    "name": "ipython",
    "version": 3
   },
   "file_extension": ".py",
   "mimetype": "text/x-python",
   "name": "python",
   "nbconvert_exporter": "python",
   "pygments_lexer": "ipython3",
   "version": "3.13.0"
  }
 },
 "nbformat": 4,
 "nbformat_minor": 2
}
